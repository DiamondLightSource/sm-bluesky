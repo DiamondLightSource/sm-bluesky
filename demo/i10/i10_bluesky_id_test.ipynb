{
 "cells": [
  {
   "cell_type": "markdown",
   "id": "63e49d72-c969-4f3b-878d-90862d3ff969",
   "metadata": {},
   "source": [
    "This is the basic template to run bluesky with jupyter notebook. "
   ]
  },
  {
   "cell_type": "code",
   "execution_count": 1,
   "id": "1e034b73-694f-4598-b906-368f37ec3379",
   "metadata": {},
   "outputs": [],
   "source": [
    "# load bluesky engine and best effort callback\n",
    "from bluesky.run_engine import RunEngine\n",
    "RE= RunEngine()\n",
    "from bluesky.callbacks.best_effort import BestEffortCallback\n",
    "bec = BestEffortCallback()"
   ]
  },
  {
   "cell_type": "markdown",
   "id": "d361bd09-8426-4eca-9d75-5d22b56ef0ed",
   "metadata": {},
   "source": [
    "#Load bluesky plans and stubs plan"
   ]
  },
  {
   "cell_type": "code",
   "execution_count": 2,
   "id": "ce0d1ef0-632f-41a2-a4a4-08a713fdf865",
   "metadata": {},
   "outputs": [],
   "source": [
    "import bluesky.plans as bp\n",
    "import bluesky.plan_stubs as bps\n",
    "import logging"
   ]
  },
  {
   "cell_type": "markdown",
   "id": "ea412d67-1c5c-4ccc-a9c9-2dc5e26fecc4",
   "metadata": {},
   "source": [
    "Load all the devices in i10 dodal."
   ]
  },
  {
   "cell_type": "code",
   "execution_count": 3,
   "id": "e4f18f7e-f891-4f0a-bcdd-f417cdab9ddf",
   "metadata": {},
   "outputs": [],
   "source": [
    "from dodal.beamlines.i10 import *\n",
    "from dodal.log import LOGGER\n",
    "LOGGER.setLevel(logging.DEBUG)"
   ]
  },
  {
   "cell_type": "markdown",
   "id": "4419b27e-f2cb-42b9-b962-68bc1bc577af",
   "metadata": {},
   "source": [
    "To connect all the devices, make use of make_all_devices"
   ]
  },
  {
   "cell_type": "code",
   "execution_count": 4,
   "id": "e732c4d7-b6af-4bda-aad3-2e56a7d23414",
   "metadata": {},
   "outputs": [
    {
     "name": "stdout",
     "output_type": "stream",
     "text": [
      "{}\n"
     ]
    }
   ],
   "source": [
    "from dodal.utils import make_all_devices\n",
    "devices, error = make_all_devices(\"dodal.beamlines.i10\",connect_immediately = True)\n",
    "print(error)"
   ]
  },
  {
   "cell_type": "markdown",
   "id": "6a8be2da-edbd-4584-8cf6-bd4b5d0fe8a8",
   "metadata": {},
   "source": [
    "List connected devices"
   ]
  },
  {
   "cell_type": "code",
   "execution_count": 5,
   "id": "e1e61258-0638-48c5-b7b2-e4009be15ff7",
   "metadata": {},
   "outputs": [
    {
     "data": {
      "text/plain": [
       "{'rasor_femto_drain_scaler_det': <dodal.devices.current_amplifiers.current_amplifier_detector.CurrentAmpDet at 0x7f5178d8dfd0>,\n",
       " 'rasor_sr570_drain_scaler_det': <dodal.devices.current_amplifiers.current_amplifier_detector.CurrentAmpDet at 0x7f5178dd7450>,\n",
       " 'rasor_femto_fluo_scaler_det': <dodal.devices.current_amplifiers.current_amplifier_detector.CurrentAmpDet at 0x7f5178dd7c50>,\n",
       " 'rasor_sr570_fluo_scaler_det': <dodal.devices.current_amplifiers.current_amplifier_detector.CurrentAmpDet at 0x7f5178de0450>,\n",
       " 'rasor_femto_pa_scaler_det': <dodal.devices.current_amplifiers.current_amplifier_detector.CurrentAmpDet at 0x7f5178de0c10>,\n",
       " 'rasor_sr570_pa_scaler_det': <dodal.devices.current_amplifiers.current_amplifier_detector.CurrentAmpDet at 0x7f5178de0e90>,\n",
       " 'rasor_sr570': <dodal.devices.i10.rasor.rasor_current_amp.RasorSR570 at 0x7f517b91c490>,\n",
       " 'rasor_det_scalers': <dodal.devices.i10.rasor.rasor_scaler_cards.RasorScalerCard1 at 0x7f5178dc9c90>,\n",
       " 'rasor_femto': <dodal.devices.i10.rasor.rasor_current_amp.RasorFemto at 0x7f5178db8850>,\n",
       " 'sample_stage': <dodal.devices.motors.XYZStage at 0x7f5190c37ed0>,\n",
       " 'pa_stage': <dodal.devices.i10.rasor.rasor_motors.PaStage at 0x7f5178db8750>,\n",
       " 'diffractometer': <dodal.devices.i10.rasor.rasor_motors.Diffractometer at 0x7f5178e521d0>,\n",
       " 'det_slits': <dodal.devices.i10.rasor.rasor_motors.DetSlits at 0x7f5178e0eb90>,\n",
       " 'pin_hole': <dodal.devices.motors.XYStage at 0x7f5178576390>,\n",
       " 'd5a_det': <dodal.devices.i10.diagnostics.I10Diagnostic5ADet at 0x7f5178590b10>,\n",
       " 'diagnostics': <dodal.devices.i10.diagnostics.I10Diagnostic at 0x7f5178dd5dd0>,\n",
       " 'slits_current': <dodal.devices.i10.slits.I10SlitsDrainCurrent at 0x7f516b923c90>,\n",
       " 'slits': <dodal.devices.i10.slits.I10Slits at 0x7f5178591610>,\n",
       " 'focusing_mirror': <dodal.devices.i10.mirrors.PiezoMirror at 0x7f5178f736d0>,\n",
       " 'switching_mirror': <dodal.devices.i10.mirrors.PiezoMirror at 0x7f517856bf50>,\n",
       " 'first_mirror': <dodal.devices.i10.mirrors.PiezoMirror at 0x7f516b907d50>,\n",
       " 'idu': <dodal.devices.i10.i10_apple2.I10Id at 0x7f516b30c250>,\n",
       " 'idd': <dodal.devices.i10.i10_apple2.I10Id at 0x7f5178dbbe50>,\n",
       " 'pgm': <dodal.devices.pgm.PGM at 0x7f516b467690>}"
      ]
     },
     "execution_count": 5,
     "metadata": {},
     "output_type": "execute_result"
    }
   ],
   "source": [
    "devices"
   ]
  },
  {
   "cell_type": "code",
   "execution_count": null,
   "id": "920621bf-3c90-431d-9caf-cc6dc89008b1",
   "metadata": {},
   "outputs": [],
   "source": [
    "RE(bp.count([devices[\"lab_stage\"]], num = 3),bec)"
   ]
  },
  {
   "cell_type": "code",
   "execution_count": 6,
   "id": "564dd5b7-52c1-4635-99b8-7ae5d0ca2b83",
   "metadata": {},
   "outputs": [],
   "source": [
    "async def read_id():\n",
    "    print(await devices[\"idu\"].energy.read())\n",
    "    print(await devices[\"idu\"].pol.read())\n",
    "    print(await devices[\"idu\"].energy.id.gap.read())\n",
    "    print(await devices[\"idu\"].energy.id.phase.read())"
   ]
  },
  {
   "cell_type": "code",
   "execution_count": 7,
   "id": "d26b533d-1e15-4486-aa65-a97e99f067f0",
   "metadata": {},
   "outputs": [
    {
     "name": "stderr",
     "output_type": "stream",
     "text": [
      "Found no setpoint for polarisation. Attempting to determine polarisation from hardware...\n"
     ]
    },
    {
     "name": "stdout",
     "output_type": "stream",
     "text": [
      "{'idu-energy-id-energy': {'value': 0.0, 'timestamp': 1757514202.5704508, 'alarm_severity': 0}, 'pgm-energy': {'value': 882.0018, 'timestamp': 1757514072.26556, 'alarm_severity': 0}}\n",
      "{'idu-energy-id-polarisation': {'value': <Pol.LV: 'lv'>, 'timestamp': 1757514202.5705585, 'alarm_severity': 0}}\n",
      "{'idu-energy-id-gap-user_readback': {'value': 20.9484, 'timestamp': 1757514085.517464, 'alarm_severity': 0}}\n",
      "{'idu-energy-id-phase-btm_inner-user_readback': {'value': 24.001, 'timestamp': 1757514103.03512, 'alarm_severity': 0}, 'idu-energy-id-phase-top_outer-user_readback': {'value': 24.001, 'timestamp': 1757514103.035033, 'alarm_severity': 0}, 'idu-energy-id-phase-btm_outer-user_readback': {'value': 0.0, 'timestamp': 1757514103.035161, 'alarm_severity': 0}, 'idu-energy-id-phase-top_inner-user_readback': {'value': 0.0, 'timestamp': 1757514103.035077, 'alarm_severity': 0}}\n",
      "21.333333333345\n",
      "21.333333333345\n",
      "\n",
      "----------- Energy changed -----------\n",
      "\n",
      "{'idu-energy-id-energy': {'value': 882.0, 'timestamp': 1757514212.4947476, 'alarm_severity': 0}, 'pgm-energy': {'value': 881.9989, 'timestamp': 1757514211.450579, 'alarm_severity': 0}}\n",
      "{'idu-energy-id-polarisation': {'value': <Pol.LV: 'lv'>, 'timestamp': 1757514213.527961, 'alarm_severity': 0}}\n",
      "{'idu-energy-id-gap-user_readback': {'value': 20.94905, 'timestamp': 1757514212.084803, 'alarm_severity': 0}}\n",
      "{'idu-energy-id-phase-btm_inner-user_readback': {'value': 24.0, 'timestamp': 1757514213.527921, 'alarm_severity': 0}, 'idu-energy-id-phase-top_outer-user_readback': {'value': 24.0, 'timestamp': 1757514213.527824, 'alarm_severity': 0}, 'idu-energy-id-phase-btm_outer-user_readback': {'value': 0.0, 'timestamp': 1757514213.527961, 'alarm_severity': 0}, 'idu-energy-id-phase-top_inner-user_readback': {'value': 0.0, 'timestamp': 1757514213.527862, 'alarm_severity': 0}}\n"
     ]
    }
   ],
   "source": [
    "await read_id()\n",
    "await devices[\"idu\"].energy.set(882)\n",
    "print(\"\\n----------- Energy changed -----------\\n\")\n",
    "await read_id()"
   ]
  },
  {
   "cell_type": "code",
   "execution_count": 13,
   "id": "bc158b2e-2262-4b76-9991-73a6d4489388",
   "metadata": {},
   "outputs": [
    {
     "name": "stdout",
     "output_type": "stream",
     "text": [
      "{'idu-energy-id-energy': {'value': 882.0, 'timestamp': 1757514655.765545, 'alarm_severity': 0}, 'pgm-energy': {'value': 881.9989, 'timestamp': 1757514211.450579, 'alarm_severity': 0}}\n",
      "{'idu-energy-id-polarisation': {'value': <Pol.LV: 'lv'>, 'timestamp': 1757514656.668723, 'alarm_severity': 0}}\n",
      "{'idu-energy-id-gap-user_readback': {'value': 20.948600000000003, 'timestamp': 1757514655.481788, 'alarm_severity': 0}}\n",
      "{'idu-energy-id-phase-btm_inner-user_readback': {'value': 24.0, 'timestamp': 1757514656.668687, 'alarm_severity': 0}, 'idu-energy-id-phase-top_outer-user_readback': {'value': 24.0, 'timestamp': 1757514656.668614, 'alarm_severity': 0}, 'idu-energy-id-phase-btm_outer-user_readback': {'value': 0.0, 'timestamp': 1757514656.668723, 'alarm_severity': 0}, 'idu-energy-id-phase-top_inner-user_readback': {'value': 0.0, 'timestamp': 1757514656.668651, 'alarm_severity': 0}}\n"
     ]
    },
    {
     "ename": "TimeoutError",
     "evalue": "derived://idu-energy-id-polarisation",
     "output_type": "error",
     "traceback": [
      "\u001b[0;31m---------------------------------------------------------------------------\u001b[0m",
      "\u001b[0;31mCancelledError\u001b[0m                            Traceback (most recent call last)",
      "File \u001b[0;32m/usr/lib64/python3.11/asyncio/tasks.py:500\u001b[0m, in \u001b[0;36mwait_for\u001b[0;34m(fut, timeout)\u001b[0m\n\u001b[1;32m    499\u001b[0m \u001b[38;5;28;01mtry\u001b[39;00m:\n\u001b[0;32m--> 500\u001b[0m     \u001b[38;5;28;01mreturn\u001b[39;00m fut\u001b[38;5;241m.\u001b[39mresult()\n\u001b[1;32m    501\u001b[0m \u001b[38;5;28;01mexcept\u001b[39;00m exceptions\u001b[38;5;241m.\u001b[39mCancelledError \u001b[38;5;28;01mas\u001b[39;00m exc:\n",
      "File \u001b[0;32m/dls/science/users/wvx67826/py-env/dodal/lib64/python3.11/site-packages/ophyd_async/core/_derived_signal_backend.py:303\u001b[0m, in \u001b[0;36mDerivedSignalBackend.put\u001b[0;34m(self, value, wait)\u001b[0m\n\u001b[1;32m    298\u001b[0m value \u001b[38;5;241m=\u001b[39m error_if_none(\n\u001b[1;32m    299\u001b[0m     value,\n\u001b[1;32m    300\u001b[0m     \u001b[38;5;124m\"\u001b[39m\u001b[38;5;124mMust be given a value to put\u001b[39m\u001b[38;5;124m\"\u001b[39m,\n\u001b[1;32m    301\u001b[0m )\n\u001b[0;32m--> 303\u001b[0m \u001b[38;5;28;01mawait\u001b[39;00m \u001b[38;5;28mself\u001b[39m\u001b[38;5;241m.\u001b[39mtransformer\u001b[38;5;241m.\u001b[39mset_derived(\u001b[38;5;28mself\u001b[39m\u001b[38;5;241m.\u001b[39mname, value)\n",
      "File \u001b[0;32m/dls/science/users/wvx67826/py-env/dodal/lib64/python3.11/site-packages/ophyd_async/core/_derived_signal_backend.py:261\u001b[0m, in \u001b[0;36mSignalTransformer.set_derived\u001b[0;34m(self, name, value)\u001b[0m\n\u001b[1;32m    259\u001b[0m \u001b[38;5;28;01melse\u001b[39;00m:\n\u001b[1;32m    260\u001b[0m     \u001b[38;5;66;03m# Only one derived signal, so pass it directly\u001b[39;00m\n\u001b[0;32m--> 261\u001b[0m     \u001b[38;5;28;01mawait\u001b[39;00m _set_derived(value)\n",
      "File \u001b[0;32m/dls/science/users/wvx67826/dodal/src/dodal/devices/apple2_undulator.py:476\u001b[0m, in \u001b[0;36mApple2._set_pol\u001b[0;34m(self, value)\u001b[0m\n\u001b[1;32m    475\u001b[0m \u001b[38;5;28mself\u001b[39m\u001b[38;5;241m.\u001b[39m_set_pol_setpoint(value)\n\u001b[0;32m--> 476\u001b[0m \u001b[38;5;28;01mawait\u001b[39;00m \u001b[38;5;28mself\u001b[39m\u001b[38;5;241m.\u001b[39mset(\u001b[38;5;28;01mawait\u001b[39;00m \u001b[38;5;28mself\u001b[39m\u001b[38;5;241m.\u001b[39menergy\u001b[38;5;241m.\u001b[39mget_value())\n",
      "File \u001b[0;32m/dls/science/users/wvx67826/dodal/src/dodal/devices/i10/i10_apple2.py:164\u001b[0m, in \u001b[0;36mI10Apple2.set\u001b[0;34m(self, value)\u001b[0m\n\u001b[1;32m    163\u001b[0m LOGGER\u001b[38;5;241m.\u001b[39minfo(\u001b[38;5;124mf\u001b[39m\u001b[38;5;124m\"\u001b[39m\u001b[38;5;124mSetting polarisation to \u001b[39m\u001b[38;5;132;01m{\u001b[39;00mpol\u001b[38;5;132;01m}\u001b[39;00m\u001b[38;5;124m, with values: \u001b[39m\u001b[38;5;132;01m{\u001b[39;00mid_set_val\u001b[38;5;132;01m}\u001b[39;00m\u001b[38;5;124m\"\u001b[39m)\n\u001b[0;32m--> 164\u001b[0m \u001b[38;5;28;01mawait\u001b[39;00m \u001b[38;5;28mself\u001b[39m\u001b[38;5;241m.\u001b[39m_set(value\u001b[38;5;241m=\u001b[39mid_set_val, energy\u001b[38;5;241m=\u001b[39mvalue)\n\u001b[1;32m    165\u001b[0m \u001b[38;5;28;01mif\u001b[39;00m pol \u001b[38;5;241m!=\u001b[39m Pol\u001b[38;5;241m.\u001b[39mLA:\n",
      "File \u001b[0;32m/dls/science/users/wvx67826/dodal/src/dodal/devices/apple2_undulator.py:553\u001b[0m, in \u001b[0;36mApple2._set\u001b[0;34m(self, value, energy)\u001b[0m\n\u001b[1;32m    549\u001b[0m \u001b[38;5;28;01mawait\u001b[39;00m asyncio\u001b[38;5;241m.\u001b[39mgather(\n\u001b[1;32m    550\u001b[0m     \u001b[38;5;28mself\u001b[39m\u001b[38;5;241m.\u001b[39mgap\u001b[38;5;241m.\u001b[39mset_move\u001b[38;5;241m.\u001b[39mset(value\u001b[38;5;241m=\u001b[39m\u001b[38;5;241m1\u001b[39m, wait\u001b[38;5;241m=\u001b[39m\u001b[38;5;28;01mFalse\u001b[39;00m, timeout\u001b[38;5;241m=\u001b[39mtimeout),\n\u001b[1;32m    551\u001b[0m     \u001b[38;5;28mself\u001b[39m\u001b[38;5;241m.\u001b[39mphase\u001b[38;5;241m.\u001b[39mset_move\u001b[38;5;241m.\u001b[39mset(value\u001b[38;5;241m=\u001b[39m\u001b[38;5;241m1\u001b[39m, wait\u001b[38;5;241m=\u001b[39m\u001b[38;5;28;01mFalse\u001b[39;00m, timeout\u001b[38;5;241m=\u001b[39mtimeout),\n\u001b[1;32m    552\u001b[0m )\n\u001b[0;32m--> 553\u001b[0m \u001b[38;5;28;01mawait\u001b[39;00m wait_for_value(\u001b[38;5;28mself\u001b[39m\u001b[38;5;241m.\u001b[39mgap\u001b[38;5;241m.\u001b[39mgate, UndulatorGateStatus\u001b[38;5;241m.\u001b[39mCLOSE, timeout\u001b[38;5;241m=\u001b[39mtimeout)\n\u001b[1;32m    554\u001b[0m \u001b[38;5;28mself\u001b[39m\u001b[38;5;241m.\u001b[39m_set_energy_rbv(energy)\n",
      "File \u001b[0;32m/dls/science/users/wvx67826/py-env/dodal/lib64/python3.11/site-packages/ophyd_async/core/_signal.py:572\u001b[0m, in \u001b[0;36mwait_for_value\u001b[0;34m(signal, match, timeout)\u001b[0m\n\u001b[1;32m    571\u001b[0m     checker \u001b[38;5;241m=\u001b[39m _ValueChecker(\u001b[38;5;28;01mlambda\u001b[39;00m v: v \u001b[38;5;241m==\u001b[39m match, \u001b[38;5;28mrepr\u001b[39m(match))\n\u001b[0;32m--> 572\u001b[0m \u001b[38;5;28;01mawait\u001b[39;00m checker\u001b[38;5;241m.\u001b[39mwait_for_value(signal, timeout)\n",
      "File \u001b[0;32m/dls/science/users/wvx67826/py-env/dodal/lib64/python3.11/site-packages/ophyd_async/core/_signal.py:538\u001b[0m, in \u001b[0;36m_ValueChecker.wait_for_value\u001b[0;34m(self, signal, timeout)\u001b[0m\n\u001b[1;32m    537\u001b[0m \u001b[38;5;28;01mtry\u001b[39;00m:\n\u001b[0;32m--> 538\u001b[0m     \u001b[38;5;28;01mawait\u001b[39;00m asyncio\u001b[38;5;241m.\u001b[39mwait_for(\u001b[38;5;28mself\u001b[39m\u001b[38;5;241m.\u001b[39m_wait_for_value(signal), timeout)\n\u001b[1;32m    539\u001b[0m \u001b[38;5;28;01mexcept\u001b[39;00m \u001b[38;5;167;01mTimeoutError\u001b[39;00m \u001b[38;5;28;01mas\u001b[39;00m e:\n",
      "File \u001b[0;32m/usr/lib64/python3.11/asyncio/tasks.py:476\u001b[0m, in \u001b[0;36mwait_for\u001b[0;34m(fut, timeout)\u001b[0m\n\u001b[1;32m    475\u001b[0m \u001b[38;5;28;01mtry\u001b[39;00m:\n\u001b[0;32m--> 476\u001b[0m     \u001b[38;5;28;01mawait\u001b[39;00m waiter\n\u001b[1;32m    477\u001b[0m \u001b[38;5;28;01mexcept\u001b[39;00m exceptions\u001b[38;5;241m.\u001b[39mCancelledError:\n",
      "\u001b[0;31mCancelledError\u001b[0m: ",
      "\nThe above exception was the direct cause of the following exception:\n",
      "\u001b[0;31mTimeoutError\u001b[0m                              Traceback (most recent call last)",
      "File \u001b[0;32m/dls/science/users/wvx67826/py-env/dodal/lib64/python3.11/site-packages/ophyd_async/core/_signal.py:41\u001b[0m, in \u001b[0;36m_wait_for\u001b[0;34m(coro, timeout, source)\u001b[0m\n\u001b[1;32m     40\u001b[0m \u001b[38;5;28;01mtry\u001b[39;00m:\n\u001b[0;32m---> 41\u001b[0m     \u001b[38;5;28;01mreturn\u001b[39;00m \u001b[38;5;28;01mawait\u001b[39;00m asyncio\u001b[38;5;241m.\u001b[39mwait_for(coro, timeout)\n\u001b[1;32m     42\u001b[0m \u001b[38;5;28;01mexcept\u001b[39;00m \u001b[38;5;167;01mTimeoutError\u001b[39;00m \u001b[38;5;28;01mas\u001b[39;00m e:\n",
      "File \u001b[0;32m/usr/lib64/python3.11/asyncio/tasks.py:502\u001b[0m, in \u001b[0;36mwait_for\u001b[0;34m(fut, timeout)\u001b[0m\n\u001b[1;32m    501\u001b[0m         \u001b[38;5;28;01mexcept\u001b[39;00m exceptions\u001b[38;5;241m.\u001b[39mCancelledError \u001b[38;5;28;01mas\u001b[39;00m exc:\n\u001b[0;32m--> 502\u001b[0m             \u001b[38;5;28;01mraise\u001b[39;00m exceptions\u001b[38;5;241m.\u001b[39mTimeoutError() \u001b[38;5;28;01mfrom\u001b[39;00m\u001b[38;5;250m \u001b[39m\u001b[38;5;21;01mexc\u001b[39;00m\n\u001b[1;32m    503\u001b[0m \u001b[38;5;28;01mfinally\u001b[39;00m:\n",
      "\u001b[0;31mTimeoutError\u001b[0m: ",
      "\nThe above exception was the direct cause of the following exception:\n",
      "\u001b[0;31mTimeoutError\u001b[0m                              Traceback (most recent call last)",
      "Cell \u001b[0;32mIn[13], line 3\u001b[0m\n\u001b[1;32m      1\u001b[0m \u001b[38;5;28;01mfrom\u001b[39;00m\u001b[38;5;250m \u001b[39m\u001b[38;5;21;01mdodal\u001b[39;00m\u001b[38;5;21;01m.\u001b[39;00m\u001b[38;5;21;01mdevices\u001b[39;00m\u001b[38;5;21;01m.\u001b[39;00m\u001b[38;5;21;01mapple2_undulator\u001b[39;00m\u001b[38;5;250m \u001b[39m\u001b[38;5;28;01mimport\u001b[39;00m Pol\n\u001b[1;32m      2\u001b[0m \u001b[38;5;28;01mawait\u001b[39;00m read_id()\n\u001b[0;32m----> 3\u001b[0m \u001b[38;5;28;01mawait\u001b[39;00m devices[\u001b[38;5;124m\"\u001b[39m\u001b[38;5;124midu\u001b[39m\u001b[38;5;124m\"\u001b[39m]\u001b[38;5;241m.\u001b[39mpol\u001b[38;5;241m.\u001b[39mset(Pol\u001b[38;5;241m.\u001b[39mLH)\n\u001b[1;32m      4\u001b[0m \u001b[38;5;28mprint\u001b[39m(\u001b[38;5;124m\"\u001b[39m\u001b[38;5;130;01m\\n\u001b[39;00m\u001b[38;5;124m----------- Energy changed -----------\u001b[39m\u001b[38;5;130;01m\\n\u001b[39;00m\u001b[38;5;124m\"\u001b[39m)\n\u001b[1;32m      5\u001b[0m \u001b[38;5;28;01mawait\u001b[39;00m read_id()\n",
      "File \u001b[0;32m/dls/science/users/wvx67826/dodal/src/dodal/devices/i10/i10_apple2.py:253\u001b[0m, in \u001b[0;36mI10Apple2Pol.set\u001b[0;34m(self, value)\u001b[0m\n\u001b[1;32m    250\u001b[0m \u001b[38;5;129m@AsyncStatus\u001b[39m\u001b[38;5;241m.\u001b[39mwrap\n\u001b[1;32m    251\u001b[0m \u001b[38;5;28;01masync\u001b[39;00m \u001b[38;5;28;01mdef\u001b[39;00m\u001b[38;5;250m \u001b[39m\u001b[38;5;21mset\u001b[39m(\u001b[38;5;28mself\u001b[39m, value: Pol) \u001b[38;5;241m-\u001b[39m\u001b[38;5;241m>\u001b[39m \u001b[38;5;28;01mNone\u001b[39;00m:\n\u001b[1;32m    252\u001b[0m     LOGGER\u001b[38;5;241m.\u001b[39minfo(\u001b[38;5;124mf\u001b[39m\u001b[38;5;124m\"\u001b[39m\u001b[38;5;124mChanging f\u001b[39m\u001b[38;5;132;01m{\u001b[39;00m\u001b[38;5;28mself\u001b[39m\u001b[38;5;241m.\u001b[39mname\u001b[38;5;132;01m}\u001b[39;00m\u001b[38;5;124m polarisation to \u001b[39m\u001b[38;5;132;01m{\u001b[39;00mvalue\u001b[38;5;132;01m}\u001b[39;00m\u001b[38;5;124m.\u001b[39m\u001b[38;5;124m\"\u001b[39m)\n\u001b[0;32m--> 253\u001b[0m     \u001b[38;5;28;01mawait\u001b[39;00m \u001b[38;5;28mself\u001b[39m\u001b[38;5;241m.\u001b[39mid_ref()\u001b[38;5;241m.\u001b[39mpolarisation\u001b[38;5;241m.\u001b[39mset(value)\n",
      "File \u001b[0;32m/dls/science/users/wvx67826/py-env/dodal/lib64/python3.11/site-packages/ophyd_async/core/_signal.py:294\u001b[0m, in \u001b[0;36mSignalW.set\u001b[0;34m(self, value, wait, timeout)\u001b[0m\n\u001b[1;32m    292\u001b[0m source \u001b[38;5;241m=\u001b[39m \u001b[38;5;28mself\u001b[39m\u001b[38;5;241m.\u001b[39m_connector\u001b[38;5;241m.\u001b[39mbackend\u001b[38;5;241m.\u001b[39msource(\u001b[38;5;28mself\u001b[39m\u001b[38;5;241m.\u001b[39mname, read\u001b[38;5;241m=\u001b[39m\u001b[38;5;28;01mFalse\u001b[39;00m)\n\u001b[1;32m    293\u001b[0m \u001b[38;5;28mself\u001b[39m\u001b[38;5;241m.\u001b[39mlog\u001b[38;5;241m.\u001b[39mdebug(\u001b[38;5;124mf\u001b[39m\u001b[38;5;124m\"\u001b[39m\u001b[38;5;124mPutting value \u001b[39m\u001b[38;5;132;01m{\u001b[39;00mvalue\u001b[38;5;132;01m}\u001b[39;00m\u001b[38;5;124m to backend at source \u001b[39m\u001b[38;5;132;01m{\u001b[39;00msource\u001b[38;5;132;01m}\u001b[39;00m\u001b[38;5;124m\"\u001b[39m)\n\u001b[0;32m--> 294\u001b[0m \u001b[38;5;28;01masync\u001b[39;00m \u001b[38;5;28;01mfor\u001b[39;00m attempt \u001b[38;5;129;01min\u001b[39;00m retry_context(\n\u001b[1;32m    295\u001b[0m     on\u001b[38;5;241m=\u001b[39masyncio\u001b[38;5;241m.\u001b[39mTimeoutError,\n\u001b[1;32m    296\u001b[0m     attempts\u001b[38;5;241m=\u001b[39m\u001b[38;5;28mself\u001b[39m\u001b[38;5;241m.\u001b[39m_attempts,\n\u001b[1;32m    297\u001b[0m     wait_initial\u001b[38;5;241m=\u001b[39m\u001b[38;5;241m0\u001b[39m,\n\u001b[1;32m    298\u001b[0m     wait_jitter\u001b[38;5;241m=\u001b[39m\u001b[38;5;241m0\u001b[39m,\n\u001b[1;32m    299\u001b[0m ):\n\u001b[1;32m    300\u001b[0m     \u001b[38;5;28;01mwith\u001b[39;00m attempt:\n\u001b[1;32m    301\u001b[0m         \u001b[38;5;28;01mawait\u001b[39;00m _wait_for(\n\u001b[1;32m    302\u001b[0m             \u001b[38;5;28mself\u001b[39m\u001b[38;5;241m.\u001b[39m_connector\u001b[38;5;241m.\u001b[39mbackend\u001b[38;5;241m.\u001b[39mput(value, wait\u001b[38;5;241m=\u001b[39mwait), timeout, source\n\u001b[1;32m    303\u001b[0m         )\n",
      "File \u001b[0;32m/dls/science/users/wvx67826/py-env/dodal/lib64/python3.11/site-packages/stamina/_core.py:549\u001b[0m, in \u001b[0;36m_RetryContextIterator.__anext__\u001b[0;34m(self)\u001b[0m\n\u001b[1;32m    547\u001b[0m \u001b[38;5;28;01masync\u001b[39;00m \u001b[38;5;28;01mdef\u001b[39;00m\u001b[38;5;250m \u001b[39m\u001b[38;5;21m__anext__\u001b[39m(\u001b[38;5;28mself\u001b[39m) \u001b[38;5;241m-\u001b[39m\u001b[38;5;241m>\u001b[39m Attempt:\n\u001b[1;32m    548\u001b[0m     \u001b[38;5;28;01mreturn\u001b[39;00m Attempt(\n\u001b[0;32m--> 549\u001b[0m         \u001b[38;5;28;01mawait\u001b[39;00m \u001b[38;5;28mself\u001b[39m\u001b[38;5;241m.\u001b[39m_t_a_retrying\u001b[38;5;241m.\u001b[39m\u001b[38;5;21m__anext__\u001b[39m(),\n\u001b[1;32m    550\u001b[0m         \u001b[38;5;28mself\u001b[39m\u001b[38;5;241m.\u001b[39m_backoff_for_attempt_number,\n\u001b[1;32m    551\u001b[0m     )\n",
      "File \u001b[0;32m/dls/science/users/wvx67826/py-env/dodal/lib64/python3.11/site-packages/tenacity/asyncio/__init__.py:166\u001b[0m, in \u001b[0;36mAsyncRetrying.__anext__\u001b[0;34m(self)\u001b[0m\n\u001b[1;32m    164\u001b[0m \u001b[38;5;28;01masync\u001b[39;00m \u001b[38;5;28;01mdef\u001b[39;00m\u001b[38;5;250m \u001b[39m\u001b[38;5;21m__anext__\u001b[39m(\u001b[38;5;28mself\u001b[39m) \u001b[38;5;241m-\u001b[39m\u001b[38;5;241m>\u001b[39m AttemptManager:\n\u001b[1;32m    165\u001b[0m     \u001b[38;5;28;01mwhile\u001b[39;00m \u001b[38;5;28;01mTrue\u001b[39;00m:\n\u001b[0;32m--> 166\u001b[0m         do \u001b[38;5;241m=\u001b[39m \u001b[38;5;28;01mawait\u001b[39;00m \u001b[38;5;28mself\u001b[39m\u001b[38;5;241m.\u001b[39miter(retry_state\u001b[38;5;241m=\u001b[39m\u001b[38;5;28mself\u001b[39m\u001b[38;5;241m.\u001b[39m_retry_state)\n\u001b[1;32m    167\u001b[0m         \u001b[38;5;28;01mif\u001b[39;00m do \u001b[38;5;129;01mis\u001b[39;00m \u001b[38;5;28;01mNone\u001b[39;00m:\n\u001b[1;32m    168\u001b[0m             \u001b[38;5;28;01mraise\u001b[39;00m \u001b[38;5;167;01mStopAsyncIteration\u001b[39;00m\n",
      "File \u001b[0;32m/dls/science/users/wvx67826/py-env/dodal/lib64/python3.11/site-packages/tenacity/asyncio/__init__.py:153\u001b[0m, in \u001b[0;36mAsyncRetrying.iter\u001b[0;34m(self, retry_state)\u001b[0m\n\u001b[1;32m    151\u001b[0m result \u001b[38;5;241m=\u001b[39m \u001b[38;5;28;01mNone\u001b[39;00m\n\u001b[1;32m    152\u001b[0m \u001b[38;5;28;01mfor\u001b[39;00m action \u001b[38;5;129;01min\u001b[39;00m \u001b[38;5;28mself\u001b[39m\u001b[38;5;241m.\u001b[39miter_state\u001b[38;5;241m.\u001b[39mactions:\n\u001b[0;32m--> 153\u001b[0m     result \u001b[38;5;241m=\u001b[39m \u001b[38;5;28;01mawait\u001b[39;00m action(retry_state)\n\u001b[1;32m    154\u001b[0m \u001b[38;5;28;01mreturn\u001b[39;00m result\n",
      "File \u001b[0;32m/dls/science/users/wvx67826/py-env/dodal/lib64/python3.11/site-packages/tenacity/_utils.py:99\u001b[0m, in \u001b[0;36mwrap_to_async_func.<locals>.inner\u001b[0;34m(*args, **kwargs)\u001b[0m\n\u001b[1;32m     98\u001b[0m \u001b[38;5;28;01masync\u001b[39;00m \u001b[38;5;28;01mdef\u001b[39;00m\u001b[38;5;250m \u001b[39m\u001b[38;5;21minner\u001b[39m(\u001b[38;5;241m*\u001b[39margs: typing\u001b[38;5;241m.\u001b[39mAny, \u001b[38;5;241m*\u001b[39m\u001b[38;5;241m*\u001b[39mkwargs: typing\u001b[38;5;241m.\u001b[39mAny) \u001b[38;5;241m-\u001b[39m\u001b[38;5;241m>\u001b[39m typing\u001b[38;5;241m.\u001b[39mAny:\n\u001b[0;32m---> 99\u001b[0m     \u001b[38;5;28;01mreturn\u001b[39;00m \u001b[43mcall\u001b[49m\u001b[43m(\u001b[49m\u001b[38;5;241;43m*\u001b[39;49m\u001b[43margs\u001b[49m\u001b[43m,\u001b[49m\u001b[43m \u001b[49m\u001b[38;5;241;43m*\u001b[39;49m\u001b[38;5;241;43m*\u001b[39;49m\u001b[43mkwargs\u001b[49m\u001b[43m)\u001b[49m\n",
      "File \u001b[0;32m/dls/science/users/wvx67826/py-env/dodal/lib64/python3.11/site-packages/tenacity/__init__.py:420\u001b[0m, in \u001b[0;36mBaseRetrying._post_stop_check_actions.<locals>.exc_check\u001b[0;34m(rs)\u001b[0m\n\u001b[1;32m    418\u001b[0m retry_exc \u001b[38;5;241m=\u001b[39m \u001b[38;5;28mself\u001b[39m\u001b[38;5;241m.\u001b[39mretry_error_cls(fut)\n\u001b[1;32m    419\u001b[0m \u001b[38;5;28;01mif\u001b[39;00m \u001b[38;5;28mself\u001b[39m\u001b[38;5;241m.\u001b[39mreraise:\n\u001b[0;32m--> 420\u001b[0m     \u001b[38;5;28;01mraise\u001b[39;00m \u001b[43mretry_exc\u001b[49m\u001b[38;5;241;43m.\u001b[39;49m\u001b[43mreraise\u001b[49m\u001b[43m(\u001b[49m\u001b[43m)\u001b[49m\n\u001b[1;32m    421\u001b[0m \u001b[38;5;28;01mraise\u001b[39;00m retry_exc \u001b[38;5;28;01mfrom\u001b[39;00m\u001b[38;5;250m \u001b[39m\u001b[38;5;21;01mfut\u001b[39;00m\u001b[38;5;21;01m.\u001b[39;00m\u001b[38;5;21;01mexception\u001b[39;00m()\n",
      "File \u001b[0;32m/dls/science/users/wvx67826/py-env/dodal/lib64/python3.11/site-packages/tenacity/__init__.py:187\u001b[0m, in \u001b[0;36mRetryError.reraise\u001b[0;34m(self)\u001b[0m\n\u001b[1;32m    185\u001b[0m \u001b[38;5;28;01mdef\u001b[39;00m\u001b[38;5;250m \u001b[39m\u001b[38;5;21mreraise\u001b[39m(\u001b[38;5;28mself\u001b[39m) \u001b[38;5;241m-\u001b[39m\u001b[38;5;241m>\u001b[39m t\u001b[38;5;241m.\u001b[39mNoReturn:\n\u001b[1;32m    186\u001b[0m     \u001b[38;5;28;01mif\u001b[39;00m \u001b[38;5;28mself\u001b[39m\u001b[38;5;241m.\u001b[39mlast_attempt\u001b[38;5;241m.\u001b[39mfailed:\n\u001b[0;32m--> 187\u001b[0m         \u001b[38;5;28;01mraise\u001b[39;00m \u001b[38;5;28;43mself\u001b[39;49m\u001b[38;5;241;43m.\u001b[39;49m\u001b[43mlast_attempt\u001b[49m\u001b[38;5;241;43m.\u001b[39;49m\u001b[43mresult\u001b[49m\u001b[43m(\u001b[49m\u001b[43m)\u001b[49m\n\u001b[1;32m    188\u001b[0m     \u001b[38;5;28;01mraise\u001b[39;00m \u001b[38;5;28mself\u001b[39m\n",
      "File \u001b[0;32m/usr/lib64/python3.11/concurrent/futures/_base.py:449\u001b[0m, in \u001b[0;36mFuture.result\u001b[0;34m(self, timeout)\u001b[0m\n\u001b[1;32m    447\u001b[0m     \u001b[38;5;28;01mraise\u001b[39;00m CancelledError()\n\u001b[1;32m    448\u001b[0m \u001b[38;5;28;01melif\u001b[39;00m \u001b[38;5;28mself\u001b[39m\u001b[38;5;241m.\u001b[39m_state \u001b[38;5;241m==\u001b[39m FINISHED:\n\u001b[0;32m--> 449\u001b[0m     \u001b[38;5;28;01mreturn\u001b[39;00m \u001b[38;5;28;43mself\u001b[39;49m\u001b[38;5;241;43m.\u001b[39;49m\u001b[43m__get_result\u001b[49m\u001b[43m(\u001b[49m\u001b[43m)\u001b[49m\n\u001b[1;32m    451\u001b[0m \u001b[38;5;28mself\u001b[39m\u001b[38;5;241m.\u001b[39m_condition\u001b[38;5;241m.\u001b[39mwait(timeout)\n\u001b[1;32m    453\u001b[0m \u001b[38;5;28;01mif\u001b[39;00m \u001b[38;5;28mself\u001b[39m\u001b[38;5;241m.\u001b[39m_state \u001b[38;5;129;01min\u001b[39;00m [CANCELLED, CANCELLED_AND_NOTIFIED]:\n",
      "File \u001b[0;32m/usr/lib64/python3.11/concurrent/futures/_base.py:401\u001b[0m, in \u001b[0;36mFuture.__get_result\u001b[0;34m(self)\u001b[0m\n\u001b[1;32m    399\u001b[0m \u001b[38;5;28;01mif\u001b[39;00m \u001b[38;5;28mself\u001b[39m\u001b[38;5;241m.\u001b[39m_exception:\n\u001b[1;32m    400\u001b[0m     \u001b[38;5;28;01mtry\u001b[39;00m:\n\u001b[0;32m--> 401\u001b[0m         \u001b[38;5;28;01mraise\u001b[39;00m \u001b[38;5;28mself\u001b[39m\u001b[38;5;241m.\u001b[39m_exception\n\u001b[1;32m    402\u001b[0m     \u001b[38;5;28;01mfinally\u001b[39;00m:\n\u001b[1;32m    403\u001b[0m         \u001b[38;5;66;03m# Break a reference cycle with the exception in self._exception\u001b[39;00m\n\u001b[1;32m    404\u001b[0m         \u001b[38;5;28mself\u001b[39m \u001b[38;5;241m=\u001b[39m \u001b[38;5;28;01mNone\u001b[39;00m\n",
      "File \u001b[0;32m/dls/science/users/wvx67826/py-env/dodal/lib64/python3.11/site-packages/ophyd_async/core/_signal.py:301\u001b[0m, in \u001b[0;36mSignalW.set\u001b[0;34m(self, value, wait, timeout)\u001b[0m\n\u001b[1;32m    294\u001b[0m \u001b[38;5;28;01masync\u001b[39;00m \u001b[38;5;28;01mfor\u001b[39;00m attempt \u001b[38;5;129;01min\u001b[39;00m retry_context(\n\u001b[1;32m    295\u001b[0m     on\u001b[38;5;241m=\u001b[39masyncio\u001b[38;5;241m.\u001b[39mTimeoutError,\n\u001b[1;32m    296\u001b[0m     attempts\u001b[38;5;241m=\u001b[39m\u001b[38;5;28mself\u001b[39m\u001b[38;5;241m.\u001b[39m_attempts,\n\u001b[1;32m    297\u001b[0m     wait_initial\u001b[38;5;241m=\u001b[39m\u001b[38;5;241m0\u001b[39m,\n\u001b[1;32m    298\u001b[0m     wait_jitter\u001b[38;5;241m=\u001b[39m\u001b[38;5;241m0\u001b[39m,\n\u001b[1;32m    299\u001b[0m ):\n\u001b[1;32m    300\u001b[0m     \u001b[38;5;28;01mwith\u001b[39;00m attempt:\n\u001b[0;32m--> 301\u001b[0m         \u001b[38;5;28;01mawait\u001b[39;00m _wait_for(\n\u001b[1;32m    302\u001b[0m             \u001b[38;5;28mself\u001b[39m\u001b[38;5;241m.\u001b[39m_connector\u001b[38;5;241m.\u001b[39mbackend\u001b[38;5;241m.\u001b[39mput(value, wait\u001b[38;5;241m=\u001b[39mwait), timeout, source\n\u001b[1;32m    303\u001b[0m         )\n\u001b[1;32m    304\u001b[0m \u001b[38;5;28mself\u001b[39m\u001b[38;5;241m.\u001b[39mlog\u001b[38;5;241m.\u001b[39mdebug(\u001b[38;5;124mf\u001b[39m\u001b[38;5;124m\"\u001b[39m\u001b[38;5;124mSuccessfully put value \u001b[39m\u001b[38;5;132;01m{\u001b[39;00mvalue\u001b[38;5;132;01m}\u001b[39;00m\u001b[38;5;124m to backend at source \u001b[39m\u001b[38;5;132;01m{\u001b[39;00msource\u001b[38;5;132;01m}\u001b[39;00m\u001b[38;5;124m\"\u001b[39m)\n",
      "File \u001b[0;32m/dls/science/users/wvx67826/py-env/dodal/lib64/python3.11/site-packages/ophyd_async/core/_signal.py:43\u001b[0m, in \u001b[0;36m_wait_for\u001b[0;34m(coro, timeout, source)\u001b[0m\n\u001b[1;32m     41\u001b[0m     \u001b[38;5;28;01mreturn\u001b[39;00m \u001b[38;5;28;01mawait\u001b[39;00m asyncio\u001b[38;5;241m.\u001b[39mwait_for(coro, timeout)\n\u001b[1;32m     42\u001b[0m \u001b[38;5;28;01mexcept\u001b[39;00m \u001b[38;5;167;01mTimeoutError\u001b[39;00m \u001b[38;5;28;01mas\u001b[39;00m e:\n\u001b[0;32m---> 43\u001b[0m     \u001b[38;5;28;01mraise\u001b[39;00m \u001b[38;5;167;01mTimeoutError\u001b[39;00m(source) \u001b[38;5;28;01mfrom\u001b[39;00m\u001b[38;5;250m \u001b[39m\u001b[38;5;21;01me\u001b[39;00m\n",
      "\u001b[0;31mTimeoutError\u001b[0m: derived://idu-energy-id-polarisation"
     ]
    }
   ],
   "source": [
    "from dodal.devices.apple2_undulator import Pol\n",
    "await read_id()\n",
    "await devices[\"idu\"].pol.set(Pol.LH)\n",
    "print(\"\\n----------- Energy changed -----------\\n\")\n",
    "await read_id()"
   ]
  },
  {
   "cell_type": "code",
   "execution_count": null,
   "id": "1347f0b2-5cb7-4a8e-8a3d-43559d38eec7",
   "metadata": {},
   "outputs": [],
   "source": [
    " devices[\"idu\"]."
   ]
  },
  {
   "cell_type": "code",
   "execution_count": null,
   "id": "712fcb8b-44ea-4403-80e6-2b90c4ed9c43",
   "metadata": {},
   "outputs": [],
   "source": [
    "await devices[\"idu\"].pol.set(Pol.NC)"
   ]
  },
  {
   "cell_type": "code",
   "execution_count": null,
   "id": "a4f6d436-71e5-444e-a45c-6c9f85594b47",
   "metadata": {},
   "outputs": [],
   "source": [
    "logging.getLogger().setLevel(logging.DEBUG)"
   ]
  },
  {
   "cell_type": "code",
   "execution_count": null,
   "id": "0a9074ed-37ad-45fa-b524-95be08bed217",
   "metadata": {},
   "outputs": [],
   "source": []
  },
  {
   "cell_type": "code",
   "execution_count": null,
   "id": "a21cdc42-08c0-4906-a7e6-4aac3084c6ca",
   "metadata": {},
   "outputs": [],
   "source": []
  },
  {
   "cell_type": "code",
   "execution_count": null,
   "id": "67d9c8c2-0c25-4d55-a900-618dce523a72",
   "metadata": {},
   "outputs": [],
   "source": []
  }
 ],
 "metadata": {
  "kernelspec": {
   "display_name": "Python 3 (ipykernel)",
   "language": "python",
   "name": "python3"
  },
  "language_info": {
   "codemirror_mode": {
    "name": "ipython",
    "version": 3
   },
   "file_extension": ".py",
   "mimetype": "text/x-python",
   "name": "python",
   "nbconvert_exporter": "python",
   "pygments_lexer": "ipython3",
   "version": "3.11.13"
  }
 },
 "nbformat": 4,
 "nbformat_minor": 5
}
