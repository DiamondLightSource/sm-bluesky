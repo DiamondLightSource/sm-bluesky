{
 "cells": [
  {
   "cell_type": "markdown",
   "id": "63e49d72-c969-4f3b-878d-90862d3ff969",
   "metadata": {},
   "source": [
    "This is energy demo. "
   ]
  },
  {
   "cell_type": "code",
   "execution_count": 1,
   "id": "1e034b73-694f-4598-b906-368f37ec3379",
   "metadata": {},
   "outputs": [],
   "source": [
    "# load bluesky engine and best effort callback\n",
    "from bluesky.run_engine import RunEngine\n",
    "RE= RunEngine()\n",
    "from bluesky.callbacks.best_effort import BestEffortCallback\n",
    "bec = BestEffortCallback()"
   ]
  },
  {
   "cell_type": "markdown",
   "id": "d361bd09-8426-4eca-9d75-5d22b56ef0ed",
   "metadata": {},
   "source": [
    "#Load bluesky plans and stubs plan"
   ]
  },
  {
   "cell_type": "code",
   "execution_count": 2,
   "id": "ce0d1ef0-632f-41a2-a4a4-08a713fdf865",
   "metadata": {},
   "outputs": [],
   "source": [
    "import bluesky.plans as bp\n",
    "import bluesky.plan_stubs as bps"
   ]
  },
  {
   "cell_type": "markdown",
   "id": "ea412d67-1c5c-4ccc-a9c9-2dc5e26fecc4",
   "metadata": {},
   "source": [
    "Load all the devices in i10 dodal."
   ]
  },
  {
   "cell_type": "code",
   "execution_count": 3,
   "id": "e4f18f7e-f891-4f0a-bcdd-f417cdab9ddf",
   "metadata": {},
   "outputs": [],
   "source": [
    "from dodal.beamlines.i10 import *\n",
    "from dodal.devices.apple2_undulator import Pol"
   ]
  },
  {
   "cell_type": "markdown",
   "id": "4419b27e-f2cb-42b9-b962-68bc1bc577af",
   "metadata": {},
   "source": [
    "To connect all the devices, make use of make_all_devices"
   ]
  },
  {
   "cell_type": "code",
   "execution_count": 4,
   "id": "e732c4d7-b6af-4bda-aad3-2e56a7d23414",
   "metadata": {},
   "outputs": [
    {
     "name": "stdout",
     "output_type": "stream",
     "text": [
      "{}\n"
     ]
    }
   ],
   "source": [
    "from dodal.utils import make_all_devices\n",
    "devices, error = make_all_devices(\"dodal.beamlines.i10\",connect_immediately = True)\n",
    "print(error)"
   ]
  },
  {
   "cell_type": "markdown",
   "id": "58d0ce7f",
   "metadata": {},
   "source": [
    "List connected devices"
   ]
  },
  {
   "cell_type": "code",
   "execution_count": 5,
   "id": "086fd61c-62d2-43ff-939d-7eca403ad380",
   "metadata": {},
   "outputs": [
    {
     "data": {
      "text/plain": [
       "{'rasor_femto_drain_scaler_det': <dodal.devices.current_amplifiers.current_amplifier_detector.CurrentAmpDet at 0x7f7b6af9c590>,\n",
       " 'rasor_sr570_drain_scaler_det': <dodal.devices.current_amplifiers.current_amplifier_detector.CurrentAmpDet at 0x7f7b68431610>,\n",
       " 'rasor_femto_fluo_scaler_det': <dodal.devices.current_amplifiers.current_amplifier_detector.CurrentAmpDet at 0x7f7b6b00e190>,\n",
       " 'rasor_sr570_fluo_scaler_det': <dodal.devices.current_amplifiers.current_amplifier_detector.CurrentAmpDet at 0x7f7b68432510>,\n",
       " 'rasor_femto_pa_scaler_det': <dodal.devices.current_amplifiers.current_amplifier_detector.CurrentAmpDet at 0x7f7b68432210>,\n",
       " 'rasor_sr570_pa_scaler_det': <dodal.devices.current_amplifiers.current_amplifier_detector.CurrentAmpDet at 0x7f7b68432f90>,\n",
       " 'rasor_sr570': <dodal.devices.i10.rasor.rasor_current_amp.RasorSR570 at 0x7f7b683fcb90>,\n",
       " 'rasor_det_scalers': <dodal.devices.i10.rasor.rasor_scaler_cards.RasorScalerCard1 at 0x7f7b683e9250>,\n",
       " 'rasor_femto': <dodal.devices.i10.rasor.rasor_current_amp.RasorFemto at 0x7f7b683fecd0>,\n",
       " 'sample_stage': <dodal.devices.motors.XYZStage at 0x7f7b68431050>,\n",
       " 'pa_stage': <dodal.devices.i10.rasor.rasor_motors.PaStage at 0x7f7b684313d0>,\n",
       " 'diffractometer': <dodal.devices.i10.rasor.rasor_motors.Diffractometer at 0x7f7b68431390>,\n",
       " 'det_slits': <dodal.devices.i10.rasor.rasor_motors.DetSlits at 0x7f7b6813c090>,\n",
       " 'pin_hole': <dodal.devices.motors.XYStage at 0x7f7b680e01d0>,\n",
       " 'd5a_det': <dodal.devices.i10.diagnostics.I10Diagnostic5ADet at 0x7f7b578eb850>,\n",
       " 'diagnostics': <dodal.devices.i10.diagnostics.I10Diagnostic at 0x7f7b57923990>,\n",
       " 'slits_current': <dodal.devices.i10.slits.I10SlitsDrainCurrent at 0x7f7b579458d0>,\n",
       " 'slits': <dodal.devices.i10.slits.I10Slits at 0x7f7b57855bd0>,\n",
       " 'focusing_mirror': <dodal.devices.i10.mirrors.PiezoMirror at 0x7f7b57820490>,\n",
       " 'switching_mirror': <dodal.devices.i10.mirrors.PiezoMirror at 0x7f7b683e2050>,\n",
       " 'first_mirror': <dodal.devices.i10.mirrors.PiezoMirror at 0x7f7b5792c950>,\n",
       " 'idu': <dodal.devices.i10.i10_apple2.I10Id at 0x7f7b56a74d10>,\n",
       " 'idd': <dodal.devices.i10.i10_apple2.I10Id at 0x7f7b68415ad0>,\n",
       " 'pgm': <dodal.devices.pgm.PGM at 0x7f7b57971f10>}"
      ]
     },
     "execution_count": 5,
     "metadata": {},
     "output_type": "execute_result"
    }
   ],
   "source": [
    "devices"
   ]
  },
  {
   "cell_type": "code",
   "execution_count": null,
   "id": "48b5a914",
   "metadata": {},
   "outputs": [],
   "source": [
    "Helper to print out positions."
   ]
  },
  {
   "cell_type": "code",
   "execution_count": 6,
   "id": "e1e61258-0638-48c5-b7b2-e4009be15ff7",
   "metadata": {},
   "outputs": [],
   "source": [
    "async def get_energy_position():\n",
    "    print(await devices[\"idu\"].energy.read())\n",
    "    print(await devices[\"idu\"].energy.id.gap.read())\n",
    "    print(await devices[\"idu\"].energy.id.phase.read())\n",
    "    print(await devices[\"idu\"].pol.read())"
   ]
  },
  {
   "cell_type": "code",
   "execution_count": null,
   "id": "977064f7",
   "metadata": {},
   "outputs": [],
   "source": [
    "Change polarisation. "
   ]
  },
  {
   "cell_type": "code",
   "execution_count": 21,
   "id": "1347f0b2-5cb7-4a8e-8a3d-43559d38eec7",
   "metadata": {},
   "outputs": [
    {
     "name": "stdout",
     "output_type": "stream",
     "text": [
      "{'idu-energy-id-energy': {'value': 838.0, 'timestamp': 1758115124.7045486, 'alarm_severity': 0}, 'pgm-energy': {'value': 837.9808, 'timestamp': 1758115125.466398, 'alarm_severity': 0}}\n",
      "{'idu-energy-id-gap-user_readback': {'value': 22.893950000000004, 'timestamp': 1758115124.488658, 'alarm_severity': 0}}\n",
      "{'idu-energy-id-phase-btm_outer-user_readback': {'value': 0.0, 'timestamp': 1758115124.837676, 'alarm_severity': 0}, 'idu-energy-id-phase-top_inner-user_readback': {'value': 0.0, 'timestamp': 1758115124.837601, 'alarm_severity': 0}, 'idu-energy-id-phase-top_outer-user_readback': {'value': 16.229, 'timestamp': 1758115124.837563, 'alarm_severity': 0}, 'idu-energy-id-phase-btm_inner-user_readback': {'value': 16.229, 'timestamp': 1758115124.837638, 'alarm_severity': 0}}\n",
      "{'idu-energy-id-polarisation': {'value': <Pol.PC: 'pc'>, 'timestamp': 1758115124.837676, 'alarm_severity': 0}}\n",
      "{'idu-energy-id-energy': {'value': 838.0, 'timestamp': 1758115156.6244273, 'alarm_severity': 0}, 'pgm-energy': {'value': 837.9808, 'timestamp': 1758115125.466398, 'alarm_severity': 0}}\n",
      "{'idu-energy-id-gap-user_readback': {'value': 22.8941, 'timestamp': 1758115156.60583, 'alarm_severity': 0}}\n",
      "{'idu-energy-id-phase-btm_outer-user_readback': {'value': 0.0, 'timestamp': 1758115156.715048, 'alarm_severity': 0}, 'idu-energy-id-phase-top_inner-user_readback': {'value': 0.0, 'timestamp': 1758115156.714975, 'alarm_severity': 0}, 'idu-energy-id-phase-top_outer-user_readback': {'value': 16.229, 'timestamp': 1758115156.714938, 'alarm_severity': 0}, 'idu-energy-id-phase-btm_inner-user_readback': {'value': 16.229, 'timestamp': 1758115156.715011, 'alarm_severity': 0}}\n",
      "{'idu-energy-id-polarisation': {'value': <Pol.PC: 'pc'>, 'timestamp': 1758115156.715048, 'alarm_severity': 0}}\n"
     ]
    }
   ],
   "source": [
    "await get_energy_position()\n",
    "await devices[\"idu\"].pol.set(Pol.PC)\n",
    "await get_energy_position()"
   ]
  },
  {
   "cell_type": "code",
   "execution_count": null,
   "id": "90ecd182",
   "metadata": {},
   "outputs": [],
   "source": [
    "Turn off autogain"
   ]
  },
  {
   "cell_type": "code",
   "execution_count": 13,
   "id": "12099c0e-dbf9-433f-b2a1-324fe0c21e95",
   "metadata": {},
   "outputs": [],
   "source": [
    "await devices[\"rasor_femto_fluo_scaler_det\"].auto_mode.set(False)"
   ]
  },
  {
   "cell_type": "code",
   "execution_count": null,
   "id": "762cea17",
   "metadata": {},
   "outputs": [],
   "source": [
    "Perform energy scan"
   ]
  },
  {
   "cell_type": "code",
   "execution_count": 20,
   "id": "16d6b0c6-ff7e-48e2-b6d4-9ec0b1625f16",
   "metadata": {},
   "outputs": [
    {
     "name": "stdout",
     "output_type": "stream",
     "text": [
      "\n",
      "\n",
      "Transient Scan ID: 2     Time: 2025-09-17 14:17:42\n",
      "Persistent Unique Scan ID: '7274f4ed-4fdc-46c2-b847-4126443396f6'\n",
      "New stream: 'primary'\n",
      "+-----------+------------+----------------------+------------+-------------------------------------+\n",
      "|   seq_num |       time | idu-energy-id-energy | pgm-energy | rasor_femto_fluo_scaler_det-current |\n",
      "+-----------+------------+----------------------+------------+-------------------------------------+\n",
      "|         1 | 14:17:52.5 |              830.000 | 829.99960000 |                               0.000 |\n",
      "|         2 | 14:17:54.7 |              830.333 | 830.34070000 |                               0.000 |\n",
      "|         3 | 14:17:57.7 |              830.667 | 830.67980000 |                               0.000 |\n",
      "|         4 | 14:18:00.2 |              831.000 | 831.01120000 |                               0.000 |\n",
      "|         5 | 14:18:02.3 |              831.333 | 831.33250000 |                               0.000 |\n",
      "|         6 | 14:18:04.6 |              831.667 | 831.66810000 |                               0.000 |\n",
      "|         7 | 14:18:06.8 |              832.000 | 832.00560000 |                               0.000 |\n",
      "|         8 | 14:18:09.3 |              832.333 | 832.35570000 |                               0.000 |\n",
      "|         9 | 14:18:11.3 |              832.667 | 832.68220000 |                               0.000 |\n",
      "|        10 | 14:18:13.0 |              833.000 | 833.01050000 |                               0.000 |\n",
      "|        11 | 14:18:14.6 |              833.333 | 833.32750000 |                               0.000 |\n",
      "|        12 | 14:18:17.1 |              833.667 | 833.67410000 |                               0.000 |\n",
      "|        13 | 14:18:18.7 |              834.000 | 833.99610000 |                               0.000 |\n",
      "|        14 | 14:18:20.9 |              834.333 | 834.33480000 |                               0.000 |\n",
      "|        15 | 14:18:23.1 |              834.667 | 834.66230000 |                               0.000 |\n",
      "|        16 | 14:18:25.1 |              835.000 | 835.01090000 |                               0.000 |\n",
      "|        17 | 14:18:27.3 |              835.333 | 835.31550000 |                               0.000 |\n",
      "|        18 | 14:18:30.4 |              835.667 | 835.66660000 |                               0.000 |\n",
      "|        19 | 14:18:32.5 |              836.000 | 836.01140000 |                               0.000 |\n",
      "|        20 | 14:18:34.7 |              836.333 | 836.34160000 |                               0.000 |\n",
      "|        21 | 14:18:37.2 |              836.667 | 836.66360000 |                               0.000 |\n",
      "|        22 | 14:18:39.3 |              837.000 | 837.00200000 |                               0.000 |\n",
      "|        23 | 14:18:41.8 |              837.333 | 837.32790000 |                               0.000 |\n",
      "|        24 | 14:18:43.4 |              837.667 | 837.67750000 |                               0.000 |\n",
      "|        25 | 14:18:45.5 |              838.000 | 837.98080000 |                               0.000 |\n",
      "+-----------+------------+----------------------+------------+-------------------------------------+\n",
      "generator scan ['7274f4ed'] (scan num: 2)\n",
      "\n",
      "\n",
      "\n"
     ]
    },
    {
     "data": {
      "text/plain": [
       "('7274f4ed-4fdc-46c2-b847-4126443396f6',)"
      ]
     },
     "execution_count": 20,
     "metadata": {},
     "output_type": "execute_result"
    },
    {
     "data": {
      "image/png": "[encoded data removed]",
      "text/plain": [
       "<Figure size 500x500 with 1 Axes>"
      ]
     },
     "metadata": {},
     "output_type": "display_data"
    }
   ],
   "source": [
    "RE(bp.scan([devices[\"rasor_femto_fluo_scaler_det\"]],devices[\"idu\"].energy, 830, 838, 25),bec)"
   ]
  },
  {
   "cell_type": "code",
   "execution_count": null,
   "id": "e5bd3e4b-0e0f-40f0-a134-26a4894c3fba",
   "metadata": {},
   "outputs": [],
   "source": []
  }
 ],
 "metadata": {
  "kernelspec": {
   "display_name": "Python 3 (ipykernel)",
   "language": "python",
   "name": "python3"
  },
  "language_info": {
   "codemirror_mode": {
    "name": "ipython",
    "version": 3
   },
   "file_extension": ".py",
   "mimetype": "text/x-python",
   "name": "python",
   "nbconvert_exporter": "python",
   "pygments_lexer": "ipython3",
   "version": "3.11.13"
  }
 },
 "nbformat": 4,
 "nbformat_minor": 5
}
